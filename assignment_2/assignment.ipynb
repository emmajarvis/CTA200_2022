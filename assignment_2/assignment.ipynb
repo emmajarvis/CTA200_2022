{
 "cells": [
  {
   "cell_type": "code",
   "execution_count": 10,
   "id": "2edf3568",
   "metadata": {},
   "outputs": [],
   "source": [
    "import numpy as np"
   ]
  },
  {
   "cell_type": "markdown",
   "id": "636936c8",
   "metadata": {},
   "source": [
    "# "
   ]
  },
  {
   "cell_type": "code",
   "execution_count": 2,
   "id": "e9c54d62",
   "metadata": {},
   "outputs": [],
   "source": [
    "def f(x):\n",
    "    return x**3-x**2-1\n",
    "def df(x):\n",
    "    return 3*x**2-2*x"
   ]
  },
  {
   "cell_type": "markdown",
   "id": "1067b851",
   "metadata": {},
   "source": [
    "# "
   ]
  },
  {
   "cell_type": "code",
   "execution_count": 13,
   "id": "0cbb2407",
   "metadata": {},
   "outputs": [],
   "source": [
    "def newton(f, df, x0, epsilon=1e-6, max_iter = 30):\n",
    "    \"\"\"Find the root of a function using a Newton Iteration.\n",
    "    \n",
    "    Parameters\n",
    "    ----------\n",
    "    f: function\n",
    "        The function you want to find the root of.\n",
    "    df: function\n",
    "        The derivative of f\n",
    "    x0: float or int\n",
    "        The initial guess for x\n",
    "    epsilon: float or int\n",
    "        The minimum threshold for the root to converge to.\n",
    "    max_iter: int\n",
    "        The maximum number of iterations for the function to converge to epsilon. \n",
    "    \n",
    "    \"\"\"\n",
    "    x = x0\n",
    "    i = 0\n",
    "    while i < max_iter:\n",
    "        if np.abs(f(x)) > epsilon:\n",
    "            x -= f(x)/df(x)\n",
    "        else:\n",
    "            print('Found root in '+str(i)+' iterations')\n",
    "            return x\n",
    "        i+=1\n",
    "    print('Iteration failed')\n",
    "    return None"
   ]
  },
  {
   "cell_type": "markdown",
   "id": "31c128df",
   "metadata": {},
   "source": [
    "# "
   ]
  },
  {
   "cell_type": "code",
   "execution_count": 18,
   "id": "af2b077d",
   "metadata": {},
   "outputs": [
    {
     "name": "stdout",
     "output_type": "stream",
     "text": [
      "Found root in 6 iterations\n"
     ]
    },
    {
     "data": {
      "text/plain": [
       "1.4655712318902172"
      ]
     },
     "execution_count": 18,
     "metadata": {},
     "output_type": "execute_result"
    }
   ],
   "source": [
    "x0 = 3\n",
    "newton(f, df, x0)"
   ]
  },
  {
   "cell_type": "code",
   "execution_count": 21,
   "id": "f436e889",
   "metadata": {},
   "outputs": [
    {
     "name": "stdout",
     "output_type": "stream",
     "text": [
      "Found root in 26 iterations\n"
     ]
    },
    {
     "data": {
      "text/plain": [
       "1.4655712376690906"
      ]
     },
     "execution_count": 21,
     "metadata": {},
     "output_type": "execute_result"
    }
   ],
   "source": [
    "x0 = -10\n",
    "newton(f, df, x0)"
   ]
  },
  {
   "cell_type": "code",
   "execution_count": 24,
   "id": "6886f245",
   "metadata": {},
   "outputs": [
    {
     "name": "stdout",
     "output_type": "stream",
     "text": [
      "Found root in 6 iterations\n"
     ]
    },
    {
     "data": {
      "text/plain": [
       "1.4655712318902172"
      ]
     },
     "execution_count": 24,
     "metadata": {},
     "output_type": "execute_result"
    }
   ],
   "source": [
    "x0 = 3\n",
    "newton(f, df, x0, epsilon = 1e-8)"
   ]
  },
  {
   "cell_type": "code",
   "execution_count": 25,
   "id": "e5b86774",
   "metadata": {},
   "outputs": [
    {
     "name": "stdout",
     "output_type": "stream",
     "text": [
      "Found root in 27 iterations\n"
     ]
    },
    {
     "data": {
      "text/plain": [
       "1.465571231876768"
      ]
     },
     "execution_count": 25,
     "metadata": {},
     "output_type": "execute_result"
    }
   ],
   "source": [
    "x0 = -10\n",
    "newton(f, df, x0, epsilon = 1e-8)"
   ]
  },
  {
   "cell_type": "code",
   "execution_count": null,
   "id": "eafed8a8",
   "metadata": {},
   "outputs": [],
   "source": []
  }
 ],
 "metadata": {
  "kernelspec": {
   "display_name": "Python 3 (ipykernel)",
   "language": "python",
   "name": "python3"
  },
  "language_info": {
   "codemirror_mode": {
    "name": "ipython",
    "version": 3
   },
   "file_extension": ".py",
   "mimetype": "text/x-python",
   "name": "python",
   "nbconvert_exporter": "python",
   "pygments_lexer": "ipython3",
   "version": "3.10.2"
  }
 },
 "nbformat": 4,
 "nbformat_minor": 5
}
